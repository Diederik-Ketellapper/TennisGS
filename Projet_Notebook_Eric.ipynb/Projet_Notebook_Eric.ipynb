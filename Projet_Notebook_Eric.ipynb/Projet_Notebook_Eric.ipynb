{
 "cells": [
  {
   "cell_type": "markdown",
   "metadata": {},
   "source": [
    "# Project notebook **<span style=\"COLOR:RED\">(complete this cell)</span>**\n",
    "\n",
    "\n",
    "### Student 1 (first half presentation)\n",
    "Name :\n",
    "<br>Group : beginner/intermediate/advanced\n",
    "### Student 2 (second half presentation)\n",
    "Name :\n",
    "<br>Group : beginner/intermediate/advanced\n",
    "### Data name :\n",
    "### Data URL : \n",
    "### Short summary of the project and datasource :\n",
    "<span style=\"COLOR:RED\">Should be a few lines maximum</span>"
   ]
  },
  {
   "cell_type": "markdown",
   "metadata": {},
   "source": [
    "# General instructions (this cell might be deleted for submission)\n",
    "** <span style=\"color:red\"> Write all the project in this file : code and explanations and upload it before January 7th at 23:55 </span> ** : \n",
    "\n",
    "<span style=\"color:red\">Remember : Code cells must be smaller than 30 lines </span>\n",
    "\n",
    "Every thing must be in the notebook :\n",
    "\n",
    "* Explanation of what you want to do with data should be present in the Notebook\n",
    "* Download data in the notebook (check the URL availability) and give the source of data (both URL and textual description)\n",
    "* Give as much as possible characteristics of data (size, type, fields, ...)\n",
    "* Provide visualisation of the data that you think useful\n",
    "* Check for the consistence of the dataset (error, missing data,...) and correct and/or delete errors\n",
    "* **Ask yourself a question that request you to perform an estimation** (for example, you can choose a data depending on time, and try to predict the latest 10% of data knowing the rest of data). **This will typically be solved through the proposal of a model and fitting the parameters of the model to (part of) the data.**\n",
    "\n",
    "If you end up writing long chunks of code, make sure you split it in logical «smaller code cells» and explain the logic. The Juptyer Notebook will be **both the memoire** you will submit for evaluation **and the visual support** for your oral presentation of your project, keep this in mind while writing it."
   ]
  },
  {
   "cell_type": "markdown",
   "metadata": {},
   "source": [
    "### Aims : \n",
    "** <span style=\"color:red\"> Here explain what you what to do with data</span> ** \n",
    "* \n",
    "* \n",
    "* "
   ]
  },
  {
   "cell_type": "markdown",
   "metadata": {},
   "source": [
    "### Download : \n",
    "** <span style=\"color:red\">Write explanations here</span> ** \n",
    "* \n",
    "* \n",
    "* "
   ]
  },
  {
   "cell_type": "code",
   "execution_count": null,
   "metadata": {
    "collapsed": true
   },
   "outputs": [],
   "source": [
    "### write code here (use as many cells as needed)\n",
    "\n"
   ]
  },
  {
   "cell_type": "markdown",
   "metadata": {},
   "source": [
    "** <span style=\"color:red\">If there is any obvious data curation to be performed upon initial data loading, do it here</span> ** \n",
    "\n"
   ]
  },
  {
   "cell_type": "code",
   "execution_count": null,
   "metadata": {
    "collapsed": true
   },
   "outputs": [],
   "source": [
    "### write code here (use as many cells as needed)\n",
    "\n"
   ]
  },
  {
   "cell_type": "markdown",
   "metadata": {},
   "source": [
    "### Data charaterisctics :  Here, give as much as possible characteristics of data\n",
    "** <span style=\"color:red\"> Write explanations here</span> ** \n",
    "* \n",
    "* \n",
    "* "
   ]
  },
  {
   "cell_type": "code",
   "execution_count": null,
   "metadata": {
    "collapsed": true
   },
   "outputs": [],
   "source": [
    "### write code here (use as many cells as needed)\n",
    "\n"
   ]
  },
  {
   "cell_type": "markdown",
   "metadata": {},
   "source": [
    "### Data visualisation and representation\n",
    "** <span style=\"color:red\"> Write explanations here</span> ** \n",
    "* \n",
    "* \n",
    "* "
   ]
  },
  {
   "cell_type": "code",
   "execution_count": null,
   "metadata": {
    "collapsed": true
   },
   "outputs": [],
   "source": [
    "### write code here (use as many cells as needed)\n",
    "\n"
   ]
  },
  {
   "cell_type": "markdown",
   "metadata": {},
   "source": [
    "### Data consistency checking\n",
    "** <span style=\"color:red\"> Write explanations here</span> ** \n",
    "* \n",
    "* \n",
    "* "
   ]
  },
  {
   "cell_type": "code",
   "execution_count": null,
   "metadata": {
    "collapsed": true
   },
   "outputs": [],
   "source": [
    "### write code here (use as many cells as needed)\n",
    "\n"
   ]
  },
  {
   "cell_type": "markdown",
   "metadata": {},
   "source": [
    "### Estimation question\n",
    "** <span style=\"color:red\"> Write explanations here</span> ** \n",
    "* \n",
    "* \n",
    "* "
   ]
  },
  {
   "cell_type": "code",
   "execution_count": null,
   "metadata": {
    "collapsed": true
   },
   "outputs": [],
   "source": [
    "### write code here (use as many cells as needed)\n",
    "\n"
   ]
  },
  {
   "cell_type": "markdown",
   "metadata": {},
   "source": [
    "### As many other optional questions as you want\n",
    "** <span style=\"color:red\"> Write explanations here</span> ** \n",
    "* \n",
    "* \n",
    "* "
   ]
  }
 ],
 "metadata": {
  "kernelspec": {
   "display_name": "Python 3",
   "language": "python",
   "name": "python3"
  },
  "language_info": {
   "codemirror_mode": {
    "name": "ipython",
    "version": 3
   },
   "file_extension": ".py",
   "mimetype": "text/x-python",
   "name": "python",
   "nbconvert_exporter": "python",
   "pygments_lexer": "ipython3",
   "version": "3.6.3"
  }
 },
 "nbformat": 4,
 "nbformat_minor": 2
}
